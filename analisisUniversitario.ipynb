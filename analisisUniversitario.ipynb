{
 "cells": [
  {
   "cell_type": "markdown",
   "id": "b75ff117",
   "metadata": {},
   "source": [
    "# Analisis Especifico para el club Universitario de Cordoba"
   ]
  }
 ],
 "metadata": {
  "kernelspec": {
   "display_name": ".venv",
   "language": "python",
   "name": "python3"
  },
  "language_info": {
   "codemirror_mode": {
    "name": "ipython",
    "version": 3
   },
   "file_extension": ".py",
   "mimetype": "text/x-python",
   "name": "python",
   "nbconvert_exporter": "python",
   "pygments_lexer": "ipython3",
   "version": "3.13.7"
  }
 },
 "nbformat": 4,
 "nbformat_minor": 5
}
