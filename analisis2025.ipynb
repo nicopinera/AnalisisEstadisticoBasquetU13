{
 "cells": [
  {
   "cell_type": "markdown",
   "id": "e994c850",
   "metadata": {},
   "source": [
    "# Analisis estadistico Categoria U13\n",
    "En la presente Notebook se generara el estudio de las estadisticas para todos los equipos que pasaron el 2025 por la categoria A1.\n",
    "\n",
    "Se aclara que en este torneo se jugo con 10 equipos en el apertura, a mitad de año ascendieron 3 equipos a la categoria inmediata superior y descendio un equipo a la categoria inmediata inferior.\n",
    "\n",
    "En este caso los equipos ascendidos fueron Banco, Poeta Lugones y Empalme. Por otro lado el equipo que descendio fue Union electria (SUE).\n",
    "\n",
    "Estas estadisticas salen de la aplicacion de CABB para el seguimiento de partidos. Se timaron mas de 150 partidos para este analisis y una base de datos de mas de 300 jugadores y jugadoras.\n",
    "\n",
    "Del torneo actual se han pasado todos los partidos hasta la fecha 4 menos Racing y deportivo norte que no se jugo"
   ]
  },
  {
   "cell_type": "code",
   "execution_count": 2,
   "id": "35d253bf",
   "metadata": {},
   "outputs": [
    {
     "name": "stdout",
     "output_type": "stream",
     "text": [
      "Requirement already satisfied: pandas in c:\\users\\nico\\anaconda3\\lib\\site-packages (from -r requirements.txt (line 1)) (2.2.3)\n",
      "Requirement already satisfied: matplotlib in c:\\users\\nico\\anaconda3\\lib\\site-packages (from -r requirements.txt (line 2)) (3.10.0)\n",
      "Requirement already satisfied: pre-commit in c:\\users\\nico\\anaconda3\\lib\\site-packages (from -r requirements.txt (line 3)) (4.3.0)\n",
      "Requirement already satisfied: flake8 in c:\\users\\nico\\anaconda3\\lib\\site-packages (from -r requirements.txt (line 4)) (7.1.1)\n",
      "Requirement already satisfied: flake8-bugbear in c:\\users\\nico\\anaconda3\\lib\\site-packages (from -r requirements.txt (line 5)) (24.12.12)\n",
      "Requirement already satisfied: yamllint in c:\\users\\nico\\anaconda3\\lib\\site-packages (from -r requirements.txt (line 6)) (1.37.1)\n",
      "Requirement already satisfied: numpy>=1.26.0 in c:\\users\\nico\\anaconda3\\lib\\site-packages (from pandas->-r requirements.txt (line 1)) (2.1.3)\n",
      "Requirement already satisfied: python-dateutil>=2.8.2 in c:\\users\\nico\\anaconda3\\lib\\site-packages (from pandas->-r requirements.txt (line 1)) (2.9.0.post0)\n",
      "Requirement already satisfied: pytz>=2020.1 in c:\\users\\nico\\anaconda3\\lib\\site-packages (from pandas->-r requirements.txt (line 1)) (2024.1)\n",
      "Requirement already satisfied: tzdata>=2022.7 in c:\\users\\nico\\anaconda3\\lib\\site-packages (from pandas->-r requirements.txt (line 1)) (2025.2)\n",
      "Requirement already satisfied: contourpy>=1.0.1 in c:\\users\\nico\\anaconda3\\lib\\site-packages (from matplotlib->-r requirements.txt (line 2)) (1.3.1)\n",
      "Requirement already satisfied: cycler>=0.10 in c:\\users\\nico\\anaconda3\\lib\\site-packages (from matplotlib->-r requirements.txt (line 2)) (0.11.0)\n",
      "Requirement already satisfied: fonttools>=4.22.0 in c:\\users\\nico\\anaconda3\\lib\\site-packages (from matplotlib->-r requirements.txt (line 2)) (4.55.3)\n",
      "Requirement already satisfied: kiwisolver>=1.3.1 in c:\\users\\nico\\anaconda3\\lib\\site-packages (from matplotlib->-r requirements.txt (line 2)) (1.4.8)\n",
      "Requirement already satisfied: packaging>=20.0 in c:\\users\\nico\\anaconda3\\lib\\site-packages (from matplotlib->-r requirements.txt (line 2)) (24.2)\n",
      "Requirement already satisfied: pillow>=8 in c:\\users\\nico\\anaconda3\\lib\\site-packages (from matplotlib->-r requirements.txt (line 2)) (11.1.0)\n",
      "Requirement already satisfied: pyparsing>=2.3.1 in c:\\users\\nico\\anaconda3\\lib\\site-packages (from matplotlib->-r requirements.txt (line 2)) (3.2.0)\n",
      "Requirement already satisfied: cfgv>=2.0.0 in c:\\users\\nico\\anaconda3\\lib\\site-packages (from pre-commit->-r requirements.txt (line 3)) (3.4.0)\n",
      "Requirement already satisfied: identify>=1.0.0 in c:\\users\\nico\\anaconda3\\lib\\site-packages (from pre-commit->-r requirements.txt (line 3)) (2.6.14)\n",
      "Requirement already satisfied: nodeenv>=0.11.1 in c:\\users\\nico\\anaconda3\\lib\\site-packages (from pre-commit->-r requirements.txt (line 3)) (1.9.1)\n",
      "Requirement already satisfied: pyyaml>=5.1 in c:\\users\\nico\\anaconda3\\lib\\site-packages (from pre-commit->-r requirements.txt (line 3)) (6.0.2)\n",
      "Requirement already satisfied: virtualenv>=20.10.0 in c:\\users\\nico\\anaconda3\\lib\\site-packages (from pre-commit->-r requirements.txt (line 3)) (20.34.0)\n",
      "Requirement already satisfied: mccabe<0.8.0,>=0.7.0 in c:\\users\\nico\\anaconda3\\lib\\site-packages (from flake8->-r requirements.txt (line 4)) (0.7.0)\n",
      "Requirement already satisfied: pycodestyle<2.13.0,>=2.12.0 in c:\\users\\nico\\anaconda3\\lib\\site-packages (from flake8->-r requirements.txt (line 4)) (2.12.1)\n",
      "Requirement already satisfied: pyflakes<3.3.0,>=3.2.0 in c:\\users\\nico\\anaconda3\\lib\\site-packages (from flake8->-r requirements.txt (line 4)) (3.2.0)\n",
      "Requirement already satisfied: attrs>=22.2.0 in c:\\users\\nico\\anaconda3\\lib\\site-packages (from flake8-bugbear->-r requirements.txt (line 5)) (24.3.0)\n",
      "Requirement already satisfied: pathspec>=0.5.3 in c:\\users\\nico\\anaconda3\\lib\\site-packages (from yamllint->-r requirements.txt (line 6)) (0.10.3)\n",
      "Requirement already satisfied: six>=1.5 in c:\\users\\nico\\anaconda3\\lib\\site-packages (from python-dateutil>=2.8.2->pandas->-r requirements.txt (line 1)) (1.17.0)\n",
      "Requirement already satisfied: distlib<1,>=0.3.7 in c:\\users\\nico\\anaconda3\\lib\\site-packages (from virtualenv>=20.10.0->pre-commit->-r requirements.txt (line 3)) (0.4.0)\n",
      "Requirement already satisfied: filelock<4,>=3.12.2 in c:\\users\\nico\\anaconda3\\lib\\site-packages (from virtualenv>=20.10.0->pre-commit->-r requirements.txt (line 3)) (3.17.0)\n",
      "Requirement already satisfied: platformdirs<5,>=3.9.1 in c:\\users\\nico\\appdata\\roaming\\python\\python313\\site-packages (from virtualenv>=20.10.0->pre-commit->-r requirements.txt (line 3)) (4.3.8)\n",
      "Note: you may need to restart the kernel to use updated packages.\n"
     ]
    }
   ],
   "source": [
    "%pip install -r requirements.txt\n"
   ]
  },
  {
   "cell_type": "markdown",
   "id": "c51b23ab",
   "metadata": {},
   "source": [
    "## Librerias y funciones utilizadas\n",
    "Se recomienda ignorar esta seccion"
   ]
  },
  {
   "cell_type": "code",
   "execution_count": null,
   "id": "a26fe920",
   "metadata": {},
   "outputs": [],
   "source": [
    "import sys\n",
    "sys.path.append('./Funciones')\n",
    "import top20 # Archivo con las funciones que extraen datos\n",
    "import estadisticas_por_equipo"
   ]
  },
  {
   "cell_type": "markdown",
   "id": "6ab93d14",
   "metadata": {},
   "source": [
    "---"
   ]
  },
  {
   "cell_type": "markdown",
   "id": "2247129b",
   "metadata": {},
   "source": [
    "# Estadisticas convencionales\n",
    "\n",
    "Empezaremos este analisis con las estadisticas convencionales, que nos dan un panorama global de los jugadores, las cuales son:\n",
    "1. **Maximos Goleadores:** Se genera el top 20 de los maximos goleadores y su promedio por juego\n",
    "2. **Maximos asistidores:** Idem que Maximos Goleadores\n",
    "3. **Maximos en Faltas:** Idem que Maximos Goleadores\n",
    "4. **Maximos Anotadores** \n",
    "   1. **Maximos Anotadores de 2 puntos:** Se genera el top 20 de los maximos anotadores de 2 puntos, junto con su cantidad de tiros intentados, su promedio por juego en ambas instancias y la eficiencia del mismo $(T2C/T2I)$\n",
    "   2. **Maximos Anotadores de 3 Puntos:** Idem que de 2 puntos\n",
    "   3. **Maximos Anotadores de Tiros Libres:** Idem que de 2 puntos\n",
    "5. **Maximos Reboteadores**\n",
    "   1. **Maximos Reboteadores Defensivos:** Top 20 de los maximos Reboteadores defensivos, junto con su promedio por juego\n",
    "   2. **Maximos Reboteadores Ofensivos:** Top 20 de los maximos Reboteadores ofensivos, junto con su promedio por juego\n",
    "   3. **Maximos Reboteadores:** Top 20 de los maximos reboteadores totales (ofensivos+defensivos), junto con su promedio por juego\n",
    "6. **Maximos Recuperos y Perdidas**\n",
    "   1. **Jugadores con mas recuperos**\n",
    "   2. **Jugadores con mas perdidas**\n",
    "7. **Valoracion**"
   ]
  },
  {
   "cell_type": "markdown",
   "id": "cef68477",
   "metadata": {},
   "source": [
    "## Maximos Goleadores"
   ]
  },
  {
   "cell_type": "code",
   "execution_count": null,
   "id": "6c1bbb29",
   "metadata": {},
   "outputs": [],
   "source": [
    "top20.top_20_jugadores_puntos('resumen_estadisticas_jugadores.csv')"
   ]
  },
  {
   "cell_type": "markdown",
   "id": "9aad071e",
   "metadata": {},
   "source": [
    "## Maixmos Asistidores"
   ]
  },
  {
   "cell_type": "code",
   "execution_count": null,
   "id": "a6f8759d",
   "metadata": {},
   "outputs": [],
   "source": [
    "top20.top_20_asistidores('resumen_estadisticas_jugadores.csv')"
   ]
  },
  {
   "cell_type": "markdown",
   "id": "482102fe",
   "metadata": {},
   "source": [
    "---"
   ]
  },
  {
   "cell_type": "markdown",
   "id": "cafc04e2",
   "metadata": {},
   "source": [
    "## Maximos en Faltas"
   ]
  },
  {
   "cell_type": "code",
   "execution_count": null,
   "id": "ececf494",
   "metadata": {},
   "outputs": [],
   "source": [
    "top20.top_20_faltas('resumen_estadisticas_jugadores.csv')"
   ]
  },
  {
   "cell_type": "markdown",
   "id": "3a8eda27",
   "metadata": {},
   "source": [
    "---"
   ]
  },
  {
   "cell_type": "markdown",
   "id": "9e46d007",
   "metadata": {},
   "source": [
    "## Maximo Anotadores"
   ]
  },
  {
   "cell_type": "markdown",
   "id": "986c5000",
   "metadata": {},
   "source": [
    "### Maximo anotador de 2 puntos"
   ]
  },
  {
   "cell_type": "code",
   "execution_count": null,
   "id": "80c88ca6",
   "metadata": {},
   "outputs": [],
   "source": [
    "top20.top_20_t2c('resumen_estadisticas_jugadores.csv')"
   ]
  },
  {
   "cell_type": "markdown",
   "id": "c35508de",
   "metadata": {},
   "source": [
    "### Maximos anotadores de 3 puntos"
   ]
  },
  {
   "cell_type": "code",
   "execution_count": null,
   "id": "f4d0b962",
   "metadata": {},
   "outputs": [],
   "source": [
    "top20.top_20_t3c('resumen_estadisticas_jugadores.csv')"
   ]
  },
  {
   "cell_type": "markdown",
   "id": "a2cd5433",
   "metadata": {},
   "source": [
    "### Maximos Anotadores de Tiros Libres"
   ]
  },
  {
   "cell_type": "code",
   "execution_count": null,
   "id": "48238d75",
   "metadata": {},
   "outputs": [],
   "source": [
    "top20.top_20_t1c('resumen_estadisticas_jugadores.csv')"
   ]
  },
  {
   "cell_type": "markdown",
   "id": "4fc9e2ee",
   "metadata": {},
   "source": [
    "## Maximo Reboteadores"
   ]
  },
  {
   "cell_type": "markdown",
   "id": "3c6f65b6",
   "metadata": {},
   "source": [
    "### Rebotes Defensivos"
   ]
  },
  {
   "cell_type": "code",
   "execution_count": null,
   "id": "54294382",
   "metadata": {},
   "outputs": [],
   "source": [
    "top20.top_20_rd('resumen_estadisticas_jugadores.csv')"
   ]
  },
  {
   "cell_type": "markdown",
   "id": "9a5e8715",
   "metadata": {},
   "source": [
    "### Rebotes Ofensivos"
   ]
  },
  {
   "cell_type": "code",
   "execution_count": null,
   "id": "41645cf0",
   "metadata": {},
   "outputs": [],
   "source": [
    "top20.top_20_ro('resumen_estadisticas_jugadores.csv')"
   ]
  },
  {
   "cell_type": "markdown",
   "id": "54883cba",
   "metadata": {},
   "source": [
    "### Rebotes Totales\n",
    "Rebotes defensivos mas rebotes ofensivos"
   ]
  },
  {
   "cell_type": "code",
   "execution_count": null,
   "id": "4fe38db9",
   "metadata": {},
   "outputs": [],
   "source": [
    "top20.top_20_rt('resumen_estadisticas_jugadores.csv')"
   ]
  },
  {
   "cell_type": "markdown",
   "id": "d6080f51",
   "metadata": {},
   "source": [
    "## Maximos Recuperos y Perdidas"
   ]
  },
  {
   "cell_type": "markdown",
   "id": "b759a55a",
   "metadata": {},
   "source": [
    "### Jugadores con mas Recupero"
   ]
  },
  {
   "cell_type": "code",
   "execution_count": null,
   "id": "25b990d7",
   "metadata": {},
   "outputs": [],
   "source": [
    "top20.top_20_recuperos('resumen_estadisticas_jugadores.csv')"
   ]
  },
  {
   "cell_type": "markdown",
   "id": "c83e8ddd",
   "metadata": {},
   "source": [
    "### Jugadores con mas Perdidas"
   ]
  },
  {
   "cell_type": "code",
   "execution_count": null,
   "id": "663aec59",
   "metadata": {},
   "outputs": [],
   "source": [
    "top20.top_20_perdidas('resumen_estadisticas_jugadores.csv')"
   ]
  },
  {
   "cell_type": "markdown",
   "id": "3545abdb",
   "metadata": {},
   "source": [
    "---"
   ]
  },
  {
   "cell_type": "markdown",
   "id": "fac849f8",
   "metadata": {},
   "source": [
    "## Valoracion\n",
    "la valoracion es un indice global que combina puntos, rebotes, asistencias, recuperos, tapas, perdidas y faltas."
   ]
  },
  {
   "cell_type": "code",
   "execution_count": null,
   "id": "639a7af0",
   "metadata": {},
   "outputs": [],
   "source": [
    "top20.top_20_valoracion('resumen_estadisticas_jugadores.csv')"
   ]
  },
  {
   "cell_type": "markdown",
   "id": "ba92f9fc",
   "metadata": {},
   "source": [
    "# Estadisticas Por Equipo"
   ]
  },
  {
   "cell_type": "markdown",
   "id": "46d7f341",
   "metadata": {},
   "source": [
    "A continuacion se realizara el anilis por equipos diferentes estadisticas, tanto convencionales como avanzadas"
   ]
  },
  {
   "cell_type": "markdown",
   "id": "989d0ab6",
   "metadata": {},
   "source": [
    "## Puntos por Equipo\n",
    "\n",
    "Se Puede ver en la siguiente tabla la cantidad de puntos totales realizada por los equipos y el promedio por partido."
   ]
  },
  {
   "cell_type": "code",
   "execution_count": null,
   "id": "59fc389c",
   "metadata": {},
   "outputs": [],
   "source": [
    "estadisticas_por_equipo.puntos_por_equipo('resumen_estadisticas_jugadores.csv')"
   ]
  },
  {
   "cell_type": "markdown",
   "id": "b3db0dcf",
   "metadata": {},
   "source": [
    "## Eficiencia por Equipos\n",
    "\n",
    "Se realizan graficos de barra para mostrar la eficiencia de los equipos en cada uno de los lanzamientos de nuestro deporte. Ademas tendremos una tabla en la cual podremos ver a detalle los Tiros convertidos y lanzados, y los promedios por juego de dichos lanzamientos"
   ]
  },
  {
   "cell_type": "code",
   "execution_count": null,
   "id": "ae3d74a6",
   "metadata": {},
   "outputs": [],
   "source": [
    "estadisticas_por_equipo.resumen_tiros_por_equipo('resumen_estadisticas_jugadores.csv')"
   ]
  }
 ],
 "metadata": {
  "kernelspec": {
   "display_name": "base",
   "language": "python",
   "name": "python3"
  },
  "language_info": {
   "codemirror_mode": {
    "name": "ipython",
    "version": 3
   },
   "file_extension": ".py",
   "mimetype": "text/x-python",
   "name": "python",
   "nbconvert_exporter": "python",
   "pygments_lexer": "ipython3",
   "version": "3.13.5"
  }
 },
 "nbformat": 4,
 "nbformat_minor": 5
}
